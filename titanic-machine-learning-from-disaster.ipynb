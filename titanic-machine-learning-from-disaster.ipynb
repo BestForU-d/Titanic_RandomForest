{
 "cells": [
  {
   "cell_type": "code",
   "execution_count": 1,
   "id": "ae5484f0",
   "metadata": {
    "execution": {
     "iopub.execute_input": "2023-08-09T09:51:16.285104Z",
     "iopub.status.busy": "2023-08-09T09:51:16.284700Z",
     "iopub.status.idle": "2023-08-09T09:51:18.009237Z",
     "shell.execute_reply": "2023-08-09T09:51:18.008144Z"
    },
    "papermill": {
     "duration": 1.733738,
     "end_time": "2023-08-09T09:51:18.011951",
     "exception": false,
     "start_time": "2023-08-09T09:51:16.278213",
     "status": "completed"
    },
    "tags": []
   },
   "outputs": [
    {
     "name": "stderr",
     "output_type": "stream",
     "text": [
      "/opt/conda/lib/python3.10/site-packages/scipy/__init__.py:146: UserWarning: A NumPy version >=1.16.5 and <1.23.0 is required for this version of SciPy (detected version 1.23.5\n",
      "  warnings.warn(f\"A NumPy version >={np_minversion} and <{np_maxversion}\"\n"
     ]
    }
   ],
   "source": [
    "import pandas as pd\n",
    "from sklearn.ensemble import RandomForestClassifier\n",
    "from sklearn.model_selection import train_test_split\n",
    "from sklearn.metrics import accuracy_score"
   ]
  },
  {
   "cell_type": "code",
   "execution_count": 2,
   "id": "9ecf1cd4",
   "metadata": {
    "execution": {
     "iopub.execute_input": "2023-08-09T09:51:18.022674Z",
     "iopub.status.busy": "2023-08-09T09:51:18.022327Z",
     "iopub.status.idle": "2023-08-09T09:51:18.114192Z",
     "shell.execute_reply": "2023-08-09T09:51:18.113349Z"
    },
    "papermill": {
     "duration": 0.099945,
     "end_time": "2023-08-09T09:51:18.116711",
     "exception": false,
     "start_time": "2023-08-09T09:51:18.016766",
     "status": "completed"
    },
    "tags": []
   },
   "outputs": [],
   "source": [
    "#Load the data\n",
    "train_data = pd.read_csv(\"/kaggle/input/titanic/train.csv\")\n",
    "test_data = pd.read_csv(\"/kaggle/input/titanic/test.csv\")"
   ]
  },
  {
   "cell_type": "code",
   "execution_count": 3,
   "id": "fc884597",
   "metadata": {
    "execution": {
     "iopub.execute_input": "2023-08-09T09:51:18.127838Z",
     "iopub.status.busy": "2023-08-09T09:51:18.127478Z",
     "iopub.status.idle": "2023-08-09T09:51:18.155737Z",
     "shell.execute_reply": "2023-08-09T09:51:18.154998Z"
    },
    "papermill": {
     "duration": 0.036312,
     "end_time": "2023-08-09T09:51:18.157827",
     "exception": false,
     "start_time": "2023-08-09T09:51:18.121515",
     "status": "completed"
    },
    "tags": []
   },
   "outputs": [],
   "source": [
    "# Preprocess the data\n",
    "train_data[\"Age\"] = train_data[\"Age\"].fillna(train_data['Age'].median())\n",
    "test_data[\"Age\"] = test_data[\"Age\"].fillna(test_data['Age'].median())\n",
    "\n",
    "train_data[\"Embarked\"] = train_data[\"Embarked\"].fillna(\"S\")\n",
    "test_data[\"Embarked\"] = test_data[\"Embarked\"].fillna(\"S\")\n",
    "\n",
    "train_data[\"Fare\"] = train_data[\"Fare\"].fillna(train_data[\"Fare\"].median())\n",
    "test_data[\"Fare\"] = test_data[\"Fare\"].fillna(test_data[\"Fare\"].median())\n",
    "\n",
    "train_data.loc[train_data['Sex'] == 'male', 'Sex'] = 0\n",
    "train_data.loc[train_data['Sex'] == 'female', 'Sex'] = 1\n",
    "\n",
    "test_data.loc[test_data['Sex'] == 'male', 'Sex'] = 0\n",
    "test_data.loc[test_data['Sex'] == 'female', 'Sex'] = 1\n",
    "\n",
    "train_data.loc[train_data['Embarked'] == 'S', 'Embarked'] = 0\n",
    "train_data.loc[train_data['Embarked'] == 'C', 'Embarked'] = 1\n",
    "train_data.loc[train_data['Embarked'] == 'Q', 'Embarked'] = 2\n",
    "\n",
    "test_data.loc[test_data['Embarked'] == 'S', 'Embarked'] = 0\n",
    "test_data.loc[test_data['Embarked'] == 'C', 'Embarked'] = 1\n",
    "test_data.loc[test_data['Embarked'] == 'Q', 'Embarked'] = 2"
   ]
  },
  {
   "cell_type": "code",
   "execution_count": 4,
   "id": "f72dbcc8",
   "metadata": {
    "execution": {
     "iopub.execute_input": "2023-08-09T09:51:18.168981Z",
     "iopub.status.busy": "2023-08-09T09:51:18.168582Z",
     "iopub.status.idle": "2023-08-09T09:51:18.182770Z",
     "shell.execute_reply": "2023-08-09T09:51:18.182009Z"
    },
    "papermill": {
     "duration": 0.022241,
     "end_time": "2023-08-09T09:51:18.184791",
     "exception": false,
     "start_time": "2023-08-09T09:51:18.162550",
     "status": "completed"
    },
    "tags": []
   },
   "outputs": [],
   "source": [
    "#Select Features\n",
    "features = [\"Pclass\", \"Sex\", \"Age\", \"SibSp\", \"Parch\", \"Fare\", \"Embarked\"]\n",
    "X_train = train_data[features]\n",
    "y_train = train_data[\"Survived\"]\n",
    "X_test = test_data[features]"
   ]
  },
  {
   "cell_type": "code",
   "execution_count": 5,
   "id": "c1a5aafb",
   "metadata": {
    "execution": {
     "iopub.execute_input": "2023-08-09T09:51:18.195935Z",
     "iopub.status.busy": "2023-08-09T09:51:18.195128Z",
     "iopub.status.idle": "2023-08-09T09:51:18.201885Z",
     "shell.execute_reply": "2023-08-09T09:51:18.201038Z"
    },
    "papermill": {
     "duration": 0.014563,
     "end_time": "2023-08-09T09:51:18.204120",
     "exception": false,
     "start_time": "2023-08-09T09:51:18.189557",
     "status": "completed"
    },
    "tags": []
   },
   "outputs": [],
   "source": [
    "#Split the data into training and valdition sets\n",
    "X_train, X_val, y_train, y_val = train_test_split(X_train, y_train, test_size = 0.2, random_state = 0)"
   ]
  },
  {
   "cell_type": "code",
   "execution_count": 6,
   "id": "d18fb640",
   "metadata": {
    "execution": {
     "iopub.execute_input": "2023-08-09T09:51:18.214836Z",
     "iopub.status.busy": "2023-08-09T09:51:18.214357Z",
     "iopub.status.idle": "2023-08-09T09:51:18.470132Z",
     "shell.execute_reply": "2023-08-09T09:51:18.468951Z"
    },
    "papermill": {
     "duration": 0.263704,
     "end_time": "2023-08-09T09:51:18.472439",
     "exception": false,
     "start_time": "2023-08-09T09:51:18.208735",
     "status": "completed"
    },
    "tags": []
   },
   "outputs": [
    {
     "data": {
      "text/html": [
       "<style>#sk-container-id-1 {color: black;background-color: white;}#sk-container-id-1 pre{padding: 0;}#sk-container-id-1 div.sk-toggleable {background-color: white;}#sk-container-id-1 label.sk-toggleable__label {cursor: pointer;display: block;width: 100%;margin-bottom: 0;padding: 0.3em;box-sizing: border-box;text-align: center;}#sk-container-id-1 label.sk-toggleable__label-arrow:before {content: \"▸\";float: left;margin-right: 0.25em;color: #696969;}#sk-container-id-1 label.sk-toggleable__label-arrow:hover:before {color: black;}#sk-container-id-1 div.sk-estimator:hover label.sk-toggleable__label-arrow:before {color: black;}#sk-container-id-1 div.sk-toggleable__content {max-height: 0;max-width: 0;overflow: hidden;text-align: left;background-color: #f0f8ff;}#sk-container-id-1 div.sk-toggleable__content pre {margin: 0.2em;color: black;border-radius: 0.25em;background-color: #f0f8ff;}#sk-container-id-1 input.sk-toggleable__control:checked~div.sk-toggleable__content {max-height: 200px;max-width: 100%;overflow: auto;}#sk-container-id-1 input.sk-toggleable__control:checked~label.sk-toggleable__label-arrow:before {content: \"▾\";}#sk-container-id-1 div.sk-estimator input.sk-toggleable__control:checked~label.sk-toggleable__label {background-color: #d4ebff;}#sk-container-id-1 div.sk-label input.sk-toggleable__control:checked~label.sk-toggleable__label {background-color: #d4ebff;}#sk-container-id-1 input.sk-hidden--visually {border: 0;clip: rect(1px 1px 1px 1px);clip: rect(1px, 1px, 1px, 1px);height: 1px;margin: -1px;overflow: hidden;padding: 0;position: absolute;width: 1px;}#sk-container-id-1 div.sk-estimator {font-family: monospace;background-color: #f0f8ff;border: 1px dotted black;border-radius: 0.25em;box-sizing: border-box;margin-bottom: 0.5em;}#sk-container-id-1 div.sk-estimator:hover {background-color: #d4ebff;}#sk-container-id-1 div.sk-parallel-item::after {content: \"\";width: 100%;border-bottom: 1px solid gray;flex-grow: 1;}#sk-container-id-1 div.sk-label:hover label.sk-toggleable__label {background-color: #d4ebff;}#sk-container-id-1 div.sk-serial::before {content: \"\";position: absolute;border-left: 1px solid gray;box-sizing: border-box;top: 0;bottom: 0;left: 50%;z-index: 0;}#sk-container-id-1 div.sk-serial {display: flex;flex-direction: column;align-items: center;background-color: white;padding-right: 0.2em;padding-left: 0.2em;position: relative;}#sk-container-id-1 div.sk-item {position: relative;z-index: 1;}#sk-container-id-1 div.sk-parallel {display: flex;align-items: stretch;justify-content: center;background-color: white;position: relative;}#sk-container-id-1 div.sk-item::before, #sk-container-id-1 div.sk-parallel-item::before {content: \"\";position: absolute;border-left: 1px solid gray;box-sizing: border-box;top: 0;bottom: 0;left: 50%;z-index: -1;}#sk-container-id-1 div.sk-parallel-item {display: flex;flex-direction: column;z-index: 1;position: relative;background-color: white;}#sk-container-id-1 div.sk-parallel-item:first-child::after {align-self: flex-end;width: 50%;}#sk-container-id-1 div.sk-parallel-item:last-child::after {align-self: flex-start;width: 50%;}#sk-container-id-1 div.sk-parallel-item:only-child::after {width: 0;}#sk-container-id-1 div.sk-dashed-wrapped {border: 1px dashed gray;margin: 0 0.4em 0.5em 0.4em;box-sizing: border-box;padding-bottom: 0.4em;background-color: white;}#sk-container-id-1 div.sk-label label {font-family: monospace;font-weight: bold;display: inline-block;line-height: 1.2em;}#sk-container-id-1 div.sk-label-container {text-align: center;}#sk-container-id-1 div.sk-container {/* jupyter's `normalize.less` sets `[hidden] { display: none; }` but bootstrap.min.css set `[hidden] { display: none !important; }` so we also need the `!important` here to be able to override the default hidden behavior on the sphinx rendered scikit-learn.org. See: https://github.com/scikit-learn/scikit-learn/issues/21755 */display: inline-block !important;position: relative;}#sk-container-id-1 div.sk-text-repr-fallback {display: none;}</style><div id=\"sk-container-id-1\" class=\"sk-top-container\"><div class=\"sk-text-repr-fallback\"><pre>RandomForestClassifier(max_depth=5, random_state=0)</pre><b>In a Jupyter environment, please rerun this cell to show the HTML representation or trust the notebook. <br />On GitHub, the HTML representation is unable to render, please try loading this page with nbviewer.org.</b></div><div class=\"sk-container\" hidden><div class=\"sk-item\"><div class=\"sk-estimator sk-toggleable\"><input class=\"sk-toggleable__control sk-hidden--visually\" id=\"sk-estimator-id-1\" type=\"checkbox\" checked><label for=\"sk-estimator-id-1\" class=\"sk-toggleable__label sk-toggleable__label-arrow\">RandomForestClassifier</label><div class=\"sk-toggleable__content\"><pre>RandomForestClassifier(max_depth=5, random_state=0)</pre></div></div></div></div></div>"
      ],
      "text/plain": [
       "RandomForestClassifier(max_depth=5, random_state=0)"
      ]
     },
     "execution_count": 6,
     "metadata": {},
     "output_type": "execute_result"
    }
   ],
   "source": [
    "# Train a random forest classifier\n",
    "rfc = RandomForestClassifier(n_estimators=100, max_depth=5, random_state=0)\n",
    "rfc.fit(X_train, y_train)"
   ]
  },
  {
   "cell_type": "code",
   "execution_count": 7,
   "id": "a0fd269e",
   "metadata": {
    "execution": {
     "iopub.execute_input": "2023-08-09T09:51:18.483648Z",
     "iopub.status.busy": "2023-08-09T09:51:18.483317Z",
     "iopub.status.idle": "2023-08-09T09:51:18.505288Z",
     "shell.execute_reply": "2023-08-09T09:51:18.504305Z"
    },
    "papermill": {
     "duration": 0.030308,
     "end_time": "2023-08-09T09:51:18.507670",
     "exception": false,
     "start_time": "2023-08-09T09:51:18.477362",
     "status": "completed"
    },
    "tags": []
   },
   "outputs": [],
   "source": [
    "# Make predictions on the validation set\n",
    "y_pred_val = rfc.predict(X_val)"
   ]
  },
  {
   "cell_type": "code",
   "execution_count": 8,
   "id": "c1a7d718",
   "metadata": {
    "execution": {
     "iopub.execute_input": "2023-08-09T09:51:18.518544Z",
     "iopub.status.busy": "2023-08-09T09:51:18.518214Z",
     "iopub.status.idle": "2023-08-09T09:51:18.524991Z",
     "shell.execute_reply": "2023-08-09T09:51:18.523927Z"
    },
    "papermill": {
     "duration": 0.01507,
     "end_time": "2023-08-09T09:51:18.527576",
     "exception": false,
     "start_time": "2023-08-09T09:51:18.512506",
     "status": "completed"
    },
    "tags": []
   },
   "outputs": [
    {
     "name": "stdout",
     "output_type": "stream",
     "text": [
      "Accuracy: 0.83\n"
     ]
    }
   ],
   "source": [
    "# Evaluate the model using accuracy score\n",
    "accuracy = accuracy_score(y_val, y_pred_val)\n",
    "print(f'Accuracy: {accuracy:.2f}')"
   ]
  },
  {
   "cell_type": "code",
   "execution_count": 9,
   "id": "36401382",
   "metadata": {
    "execution": {
     "iopub.execute_input": "2023-08-09T09:51:18.540714Z",
     "iopub.status.busy": "2023-08-09T09:51:18.539846Z",
     "iopub.status.idle": "2023-08-09T09:51:18.563725Z",
     "shell.execute_reply": "2023-08-09T09:51:18.562732Z"
    },
    "papermill": {
     "duration": 0.032309,
     "end_time": "2023-08-09T09:51:18.566268",
     "exception": false,
     "start_time": "2023-08-09T09:51:18.533959",
     "status": "completed"
    },
    "tags": []
   },
   "outputs": [],
   "source": [
    "# Make predictions on the test set\n",
    "y_pred_test = rfc.predict(X_test)"
   ]
  },
  {
   "cell_type": "code",
   "execution_count": 10,
   "id": "61a24897",
   "metadata": {
    "execution": {
     "iopub.execute_input": "2023-08-09T09:51:18.577729Z",
     "iopub.status.busy": "2023-08-09T09:51:18.577378Z",
     "iopub.status.idle": "2023-08-09T09:51:18.587310Z",
     "shell.execute_reply": "2023-08-09T09:51:18.586225Z"
    },
    "papermill": {
     "duration": 0.018117,
     "end_time": "2023-08-09T09:51:18.589642",
     "exception": false,
     "start_time": "2023-08-09T09:51:18.571525",
     "status": "completed"
    },
    "tags": []
   },
   "outputs": [],
   "source": [
    "# Create a submission file\n",
    "submission = pd.DataFrame({'PassengerId': test_data['PassengerId'], 'Survived': y_pred_test})\n",
    "submission.to_csv('submission.csv', index=False)"
   ]
  },
  {
   "cell_type": "code",
   "execution_count": 11,
   "id": "fd6ff9d3",
   "metadata": {
    "execution": {
     "iopub.execute_input": "2023-08-09T09:51:18.600647Z",
     "iopub.status.busy": "2023-08-09T09:51:18.600300Z",
     "iopub.status.idle": "2023-08-09T09:51:18.622043Z",
     "shell.execute_reply": "2023-08-09T09:51:18.620756Z"
    },
    "papermill": {
     "duration": 0.029891,
     "end_time": "2023-08-09T09:51:18.624443",
     "exception": false,
     "start_time": "2023-08-09T09:51:18.594552",
     "status": "completed"
    },
    "tags": []
   },
   "outputs": [
    {
     "name": "stdout",
     "output_type": "stream",
     "text": [
      "<class 'pandas.core.frame.DataFrame'>\n",
      "RangeIndex: 418 entries, 0 to 417\n",
      "Data columns (total 2 columns):\n",
      " #   Column       Non-Null Count  Dtype\n",
      "---  ------       --------------  -----\n",
      " 0   PassengerId  418 non-null    int64\n",
      " 1   Survived     418 non-null    int64\n",
      "dtypes: int64(2)\n",
      "memory usage: 6.7 KB\n"
     ]
    }
   ],
   "source": [
    "sub = pd.read_csv('/kaggle/working/submission.csv')\n",
    "sub.info()"
   ]
  },
  {
   "cell_type": "code",
   "execution_count": null,
   "id": "4e33e68b",
   "metadata": {
    "papermill": {
     "duration": 0.004475,
     "end_time": "2023-08-09T09:51:18.633591",
     "exception": false,
     "start_time": "2023-08-09T09:51:18.629116",
     "status": "completed"
    },
    "tags": []
   },
   "outputs": [],
   "source": []
  }
 ],
 "metadata": {
  "kernelspec": {
   "display_name": "Python 3",
   "language": "python",
   "name": "python3"
  },
  "language_info": {
   "codemirror_mode": {
    "name": "ipython",
    "version": 3
   },
   "file_extension": ".py",
   "mimetype": "text/x-python",
   "name": "python",
   "nbconvert_exporter": "python",
   "pygments_lexer": "ipython3",
   "version": "3.10.12"
  },
  "papermill": {
   "default_parameters": {},
   "duration": 13.869945,
   "end_time": "2023-08-09T09:51:19.459662",
   "environment_variables": {},
   "exception": null,
   "input_path": "__notebook__.ipynb",
   "output_path": "__notebook__.ipynb",
   "parameters": {},
   "start_time": "2023-08-09T09:51:05.589717",
   "version": "2.4.0"
  }
 },
 "nbformat": 4,
 "nbformat_minor": 5
}
